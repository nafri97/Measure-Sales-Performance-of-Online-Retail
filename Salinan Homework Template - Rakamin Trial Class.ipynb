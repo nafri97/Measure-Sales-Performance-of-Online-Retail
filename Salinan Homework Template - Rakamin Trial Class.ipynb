{
 "cells": [
  {
   "cell_type": "markdown",
   "id": "ae0654e1",
   "metadata": {},
   "source": [
    "### Homework Rakamin Trial Class - Mini Case"
   ]
  },
  {
   "cell_type": "markdown",
   "id": "578645f2",
   "metadata": {},
   "source": [
    "# Mengukur Performa Penjualan Ritel Online"
   ]
  },
  {
   "cell_type": "markdown",
   "id": "ebf52fe7",
   "metadata": {},
   "source": [
    "## Load Data"
   ]
  },
  {
   "cell_type": "code",
   "execution_count": null,
   "id": "6c4b0183",
   "metadata": {},
   "outputs": [],
   "source": []
  },
  {
   "cell_type": "markdown",
   "id": "794e2063",
   "metadata": {},
   "source": [
    "## Section 1"
   ]
  },
  {
   "cell_type": "markdown",
   "id": "0ead195f",
   "metadata": {},
   "source": [
    "### Create New Feature: Year"
   ]
  },
  {
   "cell_type": "code",
   "execution_count": null,
   "id": "5a1281e7",
   "metadata": {},
   "outputs": [],
   "source": []
  },
  {
   "cell_type": "markdown",
   "id": "9a9f5438",
   "metadata": {},
   "source": [
    "### Filtering Data"
   ]
  },
  {
   "cell_type": "code",
   "execution_count": null,
   "id": "547a9e99",
   "metadata": {},
   "outputs": [],
   "source": []
  },
  {
   "cell_type": "markdown",
   "id": "0bef109f",
   "metadata": {},
   "source": [
    "### Create New Feature: Revenue"
   ]
  },
  {
   "cell_type": "code",
   "execution_count": null,
   "id": "9a670915",
   "metadata": {},
   "outputs": [],
   "source": []
  },
  {
   "cell_type": "markdown",
   "id": "c955f053",
   "metadata": {},
   "source": [
    "### Average of Revenue per Year"
   ]
  },
  {
   "cell_type": "code",
   "execution_count": null,
   "id": "4a2e5ed4",
   "metadata": {},
   "outputs": [],
   "source": []
  },
  {
   "cell_type": "markdown",
   "id": "8823e17c",
   "metadata": {},
   "source": [
    "### Interpretation"
   ]
  },
  {
   "cell_type": "markdown",
   "id": "3739a278",
   "metadata": {},
   "source": []
  },
  {
   "cell_type": "markdown",
   "id": "4ff5f5d4",
   "metadata": {},
   "source": [
    "## Section 2"
   ]
  },
  {
   "cell_type": "markdown",
   "id": "8dadd5ef",
   "metadata": {},
   "source": [
    "### Filtering Data "
   ]
  },
  {
   "cell_type": "markdown",
   "id": "2c053fd2",
   "metadata": {},
   "source": [
    "#### Customers who finished their purchases"
   ]
  },
  {
   "cell_type": "code",
   "execution_count": null,
   "id": "d992a159",
   "metadata": {},
   "outputs": [],
   "source": []
  },
  {
   "cell_type": "markdown",
   "id": "136b9900",
   "metadata": {},
   "source": [
    "#### Customers who canceled their purchases"
   ]
  },
  {
   "cell_type": "code",
   "execution_count": null,
   "id": "98af92ed",
   "metadata": {},
   "outputs": [],
   "source": []
  },
  {
   "cell_type": "markdown",
   "id": "d3fbb31a",
   "metadata": {},
   "source": [
    "### Number of Finished and Canceled Transactions Each Year"
   ]
  },
  {
   "cell_type": "code",
   "execution_count": null,
   "id": "04158c66",
   "metadata": {},
   "outputs": [],
   "source": []
  },
  {
   "cell_type": "markdown",
   "id": "158f85e3",
   "metadata": {},
   "source": [
    "### Cancellation Rate"
   ]
  },
  {
   "cell_type": "code",
   "execution_count": null,
   "id": "ca8edaa1",
   "metadata": {},
   "outputs": [],
   "source": []
  },
  {
   "cell_type": "markdown",
   "id": "8866bcd4",
   "metadata": {},
   "source": [
    "### Interpretation"
   ]
  },
  {
   "cell_type": "markdown",
   "id": "09c84168",
   "metadata": {},
   "source": []
  }
 ],
 "metadata": {
  "kernelspec": {
   "display_name": "Python 3 (ipykernel)",
   "language": "python",
   "name": "python3"
  },
  "language_info": {
   "codemirror_mode": {
    "name": "ipython",
    "version": 3
   },
   "file_extension": ".py",
   "mimetype": "text/x-python",
   "name": "python",
   "nbconvert_exporter": "python",
   "pygments_lexer": "ipython3",
   "version": "3.9.6"
  }
 },
 "nbformat": 4,
 "nbformat_minor": 5
}
